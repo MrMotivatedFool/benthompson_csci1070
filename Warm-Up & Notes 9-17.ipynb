{
 "cells": [
  {
   "cell_type": "code",
   "execution_count": 13,
   "id": "5bcdb3ef-4ccc-4689-bf06-9028c3e8c149",
   "metadata": {},
   "outputs": [],
   "source": [
    "import numpy as np \n",
    "import pandas as pd\n",
    "from scipy import stats\n",
    "import math\n",
    "import statistics"
   ]
  },
  {
   "cell_type": "code",
   "execution_count": 9,
   "id": "9c53cb12-c767-4f79-9a7c-a2b44b802e31",
   "metadata": {},
   "outputs": [
    {
     "data": {
      "text/plain": [
       "0                           Braund, Mr. Owen Harris\n",
       "2                            Heikkinen, Miss. Laina\n",
       "3      Futrelle, Mrs. Jacques Heath (Lily May Peel)\n",
       "4                          Allen, Mr. William Henry\n",
       "6                           McCarthy, Mr. Timothy J\n",
       "                           ...                     \n",
       "883                   Banfield, Mr. Frederick James\n",
       "884                          Sutehall, Mr. Henry Jr\n",
       "886                           Montvila, Rev. Juozas\n",
       "887                    Graham, Miss. Margaret Edith\n",
       "888        Johnston, Miss. Catherine Helen \"Carrie\"\n",
       "Name: Name, Length: 644, dtype: object"
      ]
     },
     "execution_count": 9,
     "metadata": {},
     "output_type": "execute_result"
    }
   ],
   "source": [
    "df = pd.read_csv('titanic.csv')\n",
    "df['Name'][df['Embarked'] == \"S\"]"
   ]
  },
  {
   "cell_type": "code",
   "execution_count": 16,
   "id": "37d1c7cb-8636-4512-84d9-1d8a8ac697ee",
   "metadata": {},
   "outputs": [
    {
     "data": {
      "text/html": [
       "<div>\n",
       "<style scoped>\n",
       "    .dataframe tbody tr th:only-of-type {\n",
       "        vertical-align: middle;\n",
       "    }\n",
       "\n",
       "    .dataframe tbody tr th {\n",
       "        vertical-align: top;\n",
       "    }\n",
       "\n",
       "    .dataframe thead th {\n",
       "        text-align: right;\n",
       "    }\n",
       "</style>\n",
       "<table border=\"1\" class=\"dataframe\">\n",
       "  <thead>\n",
       "    <tr style=\"text-align: right;\">\n",
       "      <th></th>\n",
       "      <th>color</th>\n",
       "      <th>size</th>\n",
       "      <th>price</th>\n",
       "      <th>type</th>\n",
       "    </tr>\n",
       "  </thead>\n",
       "  <tbody>\n",
       "    <tr>\n",
       "      <th>0</th>\n",
       "      <td>blue</td>\n",
       "      <td>S</td>\n",
       "      <td>20</td>\n",
       "      <td>lemon shirt</td>\n",
       "    </tr>\n",
       "    <tr>\n",
       "      <th>1</th>\n",
       "      <td>blue</td>\n",
       "      <td>M</td>\n",
       "      <td>50</td>\n",
       "      <td>jeans</td>\n",
       "    </tr>\n",
       "    <tr>\n",
       "      <th>2</th>\n",
       "      <td>beige</td>\n",
       "      <td>M</td>\n",
       "      <td>7</td>\n",
       "      <td>bucket hat</td>\n",
       "    </tr>\n",
       "  </tbody>\n",
       "</table>\n",
       "</div>"
      ],
      "text/plain": [
       "   color size  price         type\n",
       "0   blue    S     20  lemon shirt\n",
       "1   blue    M     50        jeans\n",
       "2  beige    M      7   bucket hat"
      ]
     },
     "execution_count": 16,
     "metadata": {},
     "output_type": "execute_result"
    }
   ],
   "source": [
    "df_clothes = pd.DataFrame(data=[['blue','S',20,'lemon shirt'],\n",
    "                               ['blue','M',50,'jeans'],\n",
    "                               ['beige','M',7,'bucket hat']])\n",
    "df_clothes.columns = ['color','size','price','type']\n",
    "df_clothes"
   ]
  },
  {
   "cell_type": "code",
   "execution_count": 17,
   "id": "88482397-a3c2-4da5-b71a-c50023a201d9",
   "metadata": {},
   "outputs": [],
   "source": [
    "size_map = {'S':1,'M':2,'L':3}\n"
   ]
  },
  {
   "cell_type": "code",
   "execution_count": 20,
   "id": "cd6e8efa-2bad-4bcc-a8be-23c7e0d24eba",
   "metadata": {},
   "outputs": [],
   "source": [
    "\n",
    "from sklearn.preprocessing import LabelEncoder\n",
    "\n",
    "class_labels = LabelEncoder()\n"
   ]
  },
  {
   "cell_type": "code",
   "execution_count": null,
   "id": "4fe5d2ef-5bee-4180-a9d0-5b2801f1d7a1",
   "metadata": {},
   "outputs": [],
   "source": []
  }
 ],
 "metadata": {
  "kernelspec": {
   "display_name": "Python 3 (ipykernel)",
   "language": "python",
   "name": "python3"
  },
  "language_info": {
   "codemirror_mode": {
    "name": "ipython",
    "version": 3
   },
   "file_extension": ".py",
   "mimetype": "text/x-python",
   "name": "python",
   "nbconvert_exporter": "python",
   "pygments_lexer": "ipython3",
   "version": "3.8.0"
  }
 },
 "nbformat": 4,
 "nbformat_minor": 5
}
