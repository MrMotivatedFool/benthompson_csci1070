{
 "cells": [
  {
   "cell_type": "code",
   "execution_count": null,
   "id": "20c8911d-c4e5-4732-863d-38372d8bf8c8",
   "metadata": {},
   "outputs": [
    {
     "name": "stdout",
     "output_type": "stream",
     "text": [
      "Collecting xgboost\n",
      "  Downloading xgboost-2.1.2-py3-none-win_amd64.whl.metadata (2.1 kB)\n",
      "Requirement already satisfied: numpy in c:\\users\\benpt\\appdata\\local\\programs\\python\\python38\\lib\\site-packages (from xgboost) (1.24.4)\n",
      "Requirement already satisfied: scipy in c:\\users\\benpt\\appdata\\local\\programs\\python\\python38\\lib\\site-packages (from xgboost) (1.10.1)\n",
      "Downloading xgboost-2.1.2-py3-none-win_amd64.whl (124.9 MB)\n",
      "   ---------------------------------------- 0.0/124.9 MB ? eta -:--:--\n",
      "   - -------------------------------------- 3.9/124.9 MB 26.0 MB/s eta 0:00:05\n",
      "   -- ------------------------------------- 8.1/124.9 MB 22.9 MB/s eta 0:00:06\n",
      "   ---- ----------------------------------- 12.6/124.9 MB 21.9 MB/s eta 0:00:06\n",
      "   ----- ---------------------------------- 15.7/124.9 MB 20.2 MB/s eta 0:00:06\n",
      "   ------ --------------------------------- 20.7/124.9 MB 20.8 MB/s eta 0:00:06\n",
      "   ------- -------------------------------- 24.4/124.9 MB 20.3 MB/s eta 0:00:05\n",
      "   -------- ------------------------------- 28.0/124.9 MB 20.0 MB/s eta 0:00:05\n",
      "   ---------- ----------------------------- 32.0/124.9 MB 19.9 MB/s eta 0:00:05\n",
      "   ----------- ---------------------------- 35.9/124.9 MB 19.7 MB/s eta 0:00:05\n",
      "   ------------- -------------------------- 40.6/124.9 MB 20.0 MB/s eta 0:00:05\n",
      "   -------------- ------------------------- 44.6/124.9 MB 20.0 MB/s eta 0:00:05\n",
      "   --------------- ------------------------ 47.2/124.9 MB 19.2 MB/s eta 0:00:05\n",
      "   ---------------- ----------------------- 50.9/124.9 MB 19.0 MB/s eta 0:00:04\n",
      "   ---------------- ----------------------- 52.4/124.9 MB 18.2 MB/s eta 0:00:04\n",
      "   ----------------- ---------------------- 54.0/124.9 MB 17.6 MB/s eta 0:00:05\n",
      "   ----------------- ---------------------- 55.3/124.9 MB 17.1 MB/s eta 0:00:05\n",
      "   ----------------- ---------------------- 56.1/124.9 MB 16.1 MB/s eta 0:00:05\n",
      "   ------------------ --------------------- 59.0/124.9 MB 15.9 MB/s eta 0:00:05\n",
      "   ------------------- -------------------- 62.4/124.9 MB 16.0 MB/s eta 0:00:04\n",
      "   --------------------- ------------------ 67.1/124.9 MB 16.3 MB/s eta 0:00:04\n",
      "   ---------------------- ----------------- 71.3/124.9 MB 16.4 MB/s eta 0:00:04\n",
      "   ------------------------ --------------- 76.3/124.9 MB 16.7 MB/s eta 0:00:03\n",
      "   -------------------------- ------------- 81.8/124.9 MB 17.2 MB/s eta 0:00:03\n",
      "   ---------------------------- ----------- 87.8/124.9 MB 17.7 MB/s eta 0:00:03\n",
      "   ---------------------------- ----------- 90.2/124.9 MB 17.9 MB/s eta 0:00:02\n",
      "   ----------------------------- ---------- 92.3/124.9 MB 17.2 MB/s eta 0:00:02\n",
      "   ------------------------------ --------- 94.1/124.9 MB 17.1 MB/s eta 0:00:02\n",
      "   ------------------------------ --------- 94.1/124.9 MB 17.1 MB/s eta 0:00:02\n",
      "   ------------------------------ --------- 95.4/124.9 MB 15.9 MB/s eta 0:00:02\n",
      "   ------------------------------- ------- 100.4/124.9 MB 16.2 MB/s eta 0:00:02\n",
      "   -------------------------------- ------ 104.9/124.9 MB 16.4 MB/s eta 0:00:02\n",
      "   ---------------------------------- ---- 109.1/124.9 MB 16.5 MB/s eta 0:00:01\n",
      "   ---------------------------------- ---- 111.4/124.9 MB 16.3 MB/s eta 0:00:01\n",
      "   ------------------------------------ -- 116.1/124.9 MB 16.5 MB/s eta 0:00:01\n",
      "   ------------------------------------- - 120.6/124.9 MB 16.7 MB/s eta 0:00:01\n",
      "   --------------------------------------  124.3/124.9 MB 16.7 MB/s eta 0:00:01\n",
      "   --------------------------------------  124.8/124.9 MB 16.7 MB/s eta 0:00:01\n",
      "   --------------------------------------  124.8/124.9 MB 16.7 MB/s eta 0:00:01\n",
      "   --------------------------------------  124.8/124.9 MB 16.7 MB/s eta 0:00:01\n",
      "   --------------------------------------- 124.9/124.9 MB 15.3 MB/s eta 0:00:00\n",
      "Installing collected packages: xgboost\n",
      "Successfully installed xgboost-2.1.2\n",
      "Note: you may need to restart the kernel to use updated packages.\n"
     ]
    },
    {
     "name": "stderr",
     "output_type": "stream",
     "text": [
      "\n",
      "[notice] A new release of pip is available: 24.2 -> 24.3.1\n",
      "[notice] To update, run: python.exe -m pip install --upgrade pip\n"
     ]
    },
    {
     "ename": "",
     "evalue": "",
     "output_type": "error",
     "traceback": [
      "\u001b[1;31mThe Kernel crashed while executing code in the current cell or a previous cell. \n",
      "\u001b[1;31mPlease review the code in the cell(s) to identify a possible cause of the failure. \n",
      "\u001b[1;31mClick <a href='https://aka.ms/vscodeJupyterKernelCrash'>here</a> for more info. \n",
      "\u001b[1;31mView Jupyter <a href='command:jupyter.viewOutput'>log</a> for further details."
     ]
    }
   ],
   "source": [
    "%pip install xgboost"
   ]
  }
 ],
 "metadata": {
  "kernelspec": {
   "display_name": "Python 3",
   "language": "python",
   "name": "python3"
  },
  "language_info": {
   "codemirror_mode": {
    "name": "ipython",
    "version": 3
   },
   "file_extension": ".py",
   "mimetype": "text/x-python",
   "name": "python",
   "nbconvert_exporter": "python",
   "pygments_lexer": "ipython3",
   "version": "3.8.0"
  }
 },
 "nbformat": 4,
 "nbformat_minor": 5
}
