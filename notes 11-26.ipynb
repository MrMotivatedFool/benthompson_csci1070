{
 "cells": [
  {
   "cell_type": "markdown",
   "metadata": {},
   "source": [
    "Some considerations that one should have when asking questions to Chat GPT and other AIs is that the response that it will give is based on data that was provided to the AI and the data itself can be false.  Additionally the AI might not respond to the question due to the limits of the AI.  All AIs also lack emotion, creativity, and intuition.  "
   ]
  },
  {
   "cell_type": "markdown",
   "metadata": {},
   "source": [
    "The only way that I can think of is to ask it to provide a code template for the desired action, or by asking it to provide a code example of the desired action."
   ]
  }
 ],
 "metadata": {
  "language_info": {
   "name": "python"
  }
 },
 "nbformat": 4,
 "nbformat_minor": 2
}
