{
 "cells": [
  {
   "cell_type": "code",
   "execution_count": 10,
   "metadata": {},
   "outputs": [
    {
     "name": "stdout",
     "output_type": "stream",
     "text": [
      "1\n",
      "2\n",
      "fizz\n",
      "4\n",
      "buzz\n",
      "fizz\n",
      "7\n",
      "8\n",
      "fizz\n",
      "buzz\n",
      "11\n",
      "fizz\n",
      "13\n",
      "14\n",
      "fizzbuzz\n"
     ]
    }
   ],
   "source": [
    "number = 15\n",
    "def numbfunction(numb):\n",
    "    x = 1\n",
    "    while x <= numb:\n",
    "        if x % 3 == 0 and x % 5 != 0:\n",
    "            print(\"fizz\")\n",
    "        elif x % 3 != 0 and x % 5 == 0:\n",
    "            print(\"buzz\")\n",
    "        elif x % 3 == 0 and x % 5 == 0: \n",
    "            print(\"fizzbuzz\")\n",
    "        else: \n",
    "            print(x)\n",
    "        x += 1\n",
    "\n",
    "numbfunction(number)\n"
   ]
  }
 ],
 "metadata": {
  "kernelspec": {
   "display_name": "Python 3",
   "language": "python",
   "name": "python3"
  },
  "language_info": {
   "codemirror_mode": {
    "name": "ipython",
    "version": 3
   },
   "file_extension": ".py",
   "mimetype": "text/x-python",
   "name": "python",
   "nbconvert_exporter": "python",
   "pygments_lexer": "ipython3",
   "version": "3.8.0"
  }
 },
 "nbformat": 4,
 "nbformat_minor": 2
}
